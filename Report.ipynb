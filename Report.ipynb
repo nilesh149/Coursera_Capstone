{
 "cells": [
  {
   "cell_type": "markdown",
   "metadata": {},
   "source": [
    "# Determining the feasibility of 'BreMiEgg', a bread, milk and egg delivering service in Manhattan"
   ]
  },
  {
   "cell_type": "markdown",
   "metadata": {},
   "source": [
    "*A capstone project by Nilesh Ade*"
   ]
  },
  {
   "cell_type": "markdown",
   "metadata": {},
   "source": [
    "### Introduction"
   ]
  },
  {
   "cell_type": "markdown",
   "metadata": {},
   "source": [
    "In today's fast-paced city life, it is unfeasible to buy basic groceries such as milk, eggs and bread daily from a grocery store. Interestingly, Bread, milk and eggs sale amounted to USD 24.7 billion, USD 50.1 billion and USD 10.17 billion respectively in the year 2014 [1]. Moreover, these consumables are always in high demand due to their presence in staple American diets and are therefore, sometimes prone to unavailability. As a part of this capstone project, the feasibility of 'BreMiEgg' a bread, milk and egg delivering service is evaluated. The service will offer subscription to its users, allowing them to get these products delivered on a daily/weekly basis. The objective of this project is to evaluate a suitable location for setting up a warehouse for this service in Manhattan. The selection of this location will be primarily done based on the business value that can be obtained at a certain location. <br>\n",
    "1. https://www.statista.com\n"
   ]
  },
  {
   "cell_type": "markdown",
   "metadata": {},
   "source": [
    "### Description of Data"
   ]
  },
  {
   "cell_type": "markdown",
   "metadata": {},
   "source": [
    "As mentioned previously, the goal of this study is to determine the warehouse location for the delivering service. An ideal location will derive maximum business value (i.e. profit) from its sales. As a part of this project, the business value is defined based on the population and number of bakeries, convenience and grocery stores in a neighborhood. In simpler sense, if a neighborhood has high population, and low numbers of bakeries, convenience and grocery stores, it would serve as an ideal location for the warehouse as the demand for these products will be high in such a neighborhood. Also. if the warehouse is in such a neighborhood the transportation cost will be lower along with the possibility of spoilage of these items. Thus, to address the concept of business value, the data pertaining to population and number of bakeries, convenience and grocery stores in Manhattan neighborhood is required. The population data is acquired from city of New York website [2]. The data pertaining to the number of bakeries, convenience and grocery stores in Manhattan neighborhood is obtained by using the Foursquare API [3]. Apart from the mentioned data, the geospatial data for the neighbourhoods in Manhattan is also imported from Foursquare API to generate a sense of distance between the neighbourhoods  [3]. An ideal neighbourhood warehouse location should be closer to other neighbourhoods with high business values. <br> \n",
    "2. https://data.cityofnewyork.us/City-Government/Manhattan-populations-by-neighborhood/8m6s-esnp <br>\n",
    "3. https://foursquare.com/ \n"
   ]
  },
  {
   "cell_type": "markdown",
   "metadata": {},
   "source": [
    "### Methodology"
   ]
  },
  {
   "cell_type": "markdown",
   "metadata": {},
   "source": [
    "Once the data from the mentioned data sources are imported and formatted appropriately in a python dataframe, the next step is to normalize the data to allow easier comparison between various neighborhoods. Thus, the population (P), number of bakeries (Nb), convenience (Nc) and grocery stores (Ng) in different neighborhoods in Manhattan are divided by their maximum values. Following this, the business value of a neighborhood is defined as business value = aP – bNb – cNc – dNg. The values of the constants are assumed based on personal judgment. The positive sign for population indicates higher business values for neighborhoods with higher population whereas, the negative sign for the number of bakeries, convenience and grocery stores indicates lower business value where the number of these stores are higher. The business value for different neighborhoods is calculated based on the defined function. The next step in the methodology is to cluster the neighborhoods using the k-means algorithm. The clustering of neighborhoods is done only based on geospatial data (i.e. latitude and longitude) and business value. The clustered neighborhoods are visualized using Folium library of python. "
   ]
  },
  {
   "cell_type": "markdown",
   "metadata": {},
   "source": [
    "### Results"
   ]
  },
  {
   "cell_type": "markdown",
   "metadata": {},
   "source": [
    "By applying the mentioned methodology, the neighborhoods are clustered in 4 groups. The clustering is displayed in the following figure. Cluster 0 is represented by red, Cluster 1 is represented by Purple, Cluster 2 is represented by Cyan and Cluster 3 is represented by Yellow. It is interesting to observe that, Cluster 0 has 11 neighborhood, Cluster 1 has 1 neighborhood, Cluster 2 has 5 neighborhoods and Cluster 3 has 6 neighborhoods. <br>\n",
    "![Results.PNG](Results.PNG)"
   ]
  },
  {
   "cell_type": "markdown",
   "metadata": {},
   "source": [
    "### Discussion"
   ]
  },
  {
   "cell_type": "markdown",
   "metadata": {},
   "source": [
    "As observed from the figure, the described approach consisting of k-means clustering based on population and business value works perfectly for the problem under consideration. However, the objective of this project is to suggest a location for the warehouse. This can be achieved by observing the cluster locations in the map and their average business values (shown in the following table). As observed, Cluster 1 (Purple) has the highest average business value and is closer to other clusters with high average business values i.e. Cluster 0 (Red) and Cluster 3 (Yellow). Thus, setting up the warehouse in Cluster 1 i.e. Upper West Side neighborhood location of Manhattan will be ideal. \n",
    "It is also important to address the limitations that are present in the current analysis. The population data for few neighborhoods were not available and were therefore, neglected in this project. The population data was from the year 2010 and a more recent data can change the results significantly. Also, the business value function coefficients are assigned based on personal judgment. In an ideal setting, these values should be derived empirically. Also, determining the number of clusters for dividing the neighborhoods is an important problem in itself, that has not been addressed in this study. <br>\n",
    "![Tabl.PNG](Tabl.PNG)"
   ]
  },
  {
   "cell_type": "markdown",
   "metadata": {},
   "source": [
    "### Conclusion"
   ]
  },
  {
   "cell_type": "markdown",
   "metadata": {},
   "source": [
    "To conclude, the capstone project consisting of Population data collection/wrangling, foursquare API data collection/wrangling, K-means clustering, and folium map visualization is successful in attaining the required goal. The project can be improved by using recent data and including various other parameters such as commercial rents, utility costs etc. The approach of the project can be implemented to address a variety of similar problems such as determining the location for a retail delivery service, location of a supermarket etc.\n",
    "\n"
   ]
  },
  {
   "cell_type": "code",
   "execution_count": null,
   "metadata": {},
   "outputs": [],
   "source": []
  }
 ],
 "metadata": {
  "kernelspec": {
   "display_name": "Python 3",
   "language": "python",
   "name": "python3"
  },
  "language_info": {
   "codemirror_mode": {
    "name": "ipython",
    "version": 3
   },
   "file_extension": ".py",
   "mimetype": "text/x-python",
   "name": "python",
   "nbconvert_exporter": "python",
   "pygments_lexer": "ipython3",
   "version": "3.6.6"
  }
 },
 "nbformat": 4,
 "nbformat_minor": 2
}
